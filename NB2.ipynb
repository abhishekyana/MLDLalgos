{
 "cells": [
  {
   "cell_type": "code",
   "execution_count": 1,
   "metadata": {
    "collapsed": true
   },
   "outputs": [],
   "source": [
    "import os\n",
    "import numpy as np\n",
    "import re"
   ]
  },
  {
   "cell_type": "code",
   "execution_count": 2,
   "metadata": {
    "collapsed": true
   },
   "outputs": [],
   "source": [
    "# Creates dictionary from all the emails in the directory\n",
    "def build_dictionary(dir):\n",
    "    # Read the file names\n",
    "    emails = os.listdir(dir)\n",
    "    emails.sort()\n",
    "    # Array to hold all the words in the emails\n",
    "    dictionary = []\n",
    "    # Collecting all words from those emails\n",
    "    for email in emails:\n",
    "        m = open(os.path.join(dir, email))\n",
    "        for i, line in enumerate(m):\n",
    "            if i == 2: # Body of email is only 3rd line of text file\n",
    "                words = [w for w in line.lower().split() if w.isalpha() and len(w)>1]\n",
    "                dictionary += words\n",
    "\n",
    "    # We now have the array of words which may have duplicate entries\n",
    "    dictionary = sorted(list(set(dictionary))) # Removes duplicates\n",
    "    DICTY = {w:i for i,w in enumerate(dictionary)}\n",
    "    return DICTY\n",
    "\n",
    "def build_features(dir, dictionary):\n",
    "    # Read the file names\n",
    "    emails = os.listdir(dir)\n",
    "    emails.sort()\n",
    "    # N-dimensional array to have the features\n",
    "    features_matrix = np.zeros((len(emails), len(dictionary)))\n",
    "\n",
    "    # collecting the number of occurances of each of the words in the emails\n",
    "    for email_index, email in enumerate(emails):\n",
    "        m = open(os.path.join(dir, email))\n",
    "        for line_index, line in enumerate(m):\n",
    "            if line_index == 2:\n",
    "                words = line.split()\n",
    "                for word_index, word in enumerate(dictionary):\n",
    "                    features_matrix[email_index, word_index] = words.count(word)\n",
    "    return features_matrix\n",
    "\n",
    "def build_labels(dir):\n",
    "    # Read the file names\n",
    "    emails = os.listdir(dir)\n",
    "    emails.sort()\n",
    "    # N dimensional array of labels\n",
    "    labels_matrix = np.zeros(len(emails))\n",
    "    for index, email in enumerate(emails):\n",
    "        labels_matrix[index] = 1 if re.search('spms*', email) else 0\n",
    "    return labels_matrix"
   ]
  },
  {
   "cell_type": "code",
   "execution_count": 3,
   "metadata": {},
   "outputs": [
    {
     "name": "stdout",
     "output_type": "stream",
     "text": [
      "1. Building the dictionary\n"
     ]
    }
   ],
   "source": [
    "train_dir = './train_data'\n",
    "print('1. Building the dictionary')\n",
    "dictionary = build_dictionary(train_dir)"
   ]
  },
  {
   "cell_type": "code",
   "execution_count": 4,
   "metadata": {},
   "outputs": [
    {
     "name": "stdout",
     "output_type": "stream",
     "text": [
      "2. Building the training features and labels\n"
     ]
    }
   ],
   "source": [
    "print('2. Building the training features and labels')\n",
    "features_train = build_features(train_dir, dictionary)\n",
    "labels_train = build_labels(train_dir)"
   ]
  },
  {
   "cell_type": "code",
   "execution_count": 143,
   "metadata": {
    "collapsed": true
   },
   "outputs": [],
   "source": [
    "class MultinomialNaiveBayes:\n",
    "    def __init__(self, alpha=1.0):\n",
    "        self.alpha = alpha # Used for laplace smoothing the features\n",
    "        self.class_prior = None # Prior Probabilities\n",
    "        self.fit_prior = True # Fit Prior\n",
    "        \n",
    "    def _update_feature_log_prob(self,alpha):\n",
    "        smoothed_fc = self.feature_count_ + alpha\n",
    "        smoothed_cc = smoothed_fc.sum(axis=1).reshape(-1, 1)\n",
    "        self.feature_log_prob_ = (np.log(smoothed_fc) - np.log(smoothed_cc))\n",
    "    \n",
    "    def _update_class_log_prior(self,class_prior=None):\n",
    "        log_class_count = np.log(self.class_count_)\n",
    "        self.class_log_prior_ = (log_class_count - np.log(self.class_count_.sum()))\n",
    "    \n",
    "    def predict(self, X):\n",
    "        preds = ((X @ self.feature_log_prob_.T) + self.class_log_prior_)   #Joint log likelihood\n",
    "        return self.classes_[np.argmax(preds, axis=1)]\n",
    "    \n",
    "    def fit(self, X, y):\n",
    "        _, n_features = X.shape\n",
    "        Y = np.reshape(y,(-1,1)).astype(np.float32)\n",
    "        self.classes_ = np.unique(Y)\n",
    "        Y = np.concatenate((1 - Y, Y), axis=1)\n",
    "        n_effective_classes = Y.shape[1]\n",
    "        self.feature_count_ = Y.T@X\n",
    "        self.class_count_ = Y.sum(axis=0)\n",
    "        self._update_feature_log_prob(self.alpha)\n",
    "        self._update_class_log_prior(class_prior=self.class_prior)\n",
    "        return self"
   ]
  },
  {
   "cell_type": "code",
   "execution_count": 144,
   "metadata": {},
   "outputs": [
    {
     "data": {
      "text/plain": [
       "<__main__.MultinomialNaiveBayes at 0x10c671080>"
      ]
     },
     "execution_count": 144,
     "metadata": {},
     "output_type": "execute_result"
    }
   ],
   "source": [
    "mnb = MultinomialNaiveBayes()\n",
    "mnb.fit(features_train,labels_train)"
   ]
  },
  {
   "cell_type": "code",
   "execution_count": 145,
   "metadata": {},
   "outputs": [],
   "source": [
    "Preds = mnb.predict(features_train)"
   ]
  },
  {
   "cell_type": "code",
   "execution_count": 146,
   "metadata": {},
   "outputs": [
    {
     "data": {
      "text/plain": [
       "0.9965397923875432"
      ]
     },
     "execution_count": 146,
     "metadata": {},
     "output_type": "execute_result"
    }
   ],
   "source": [
    "(Preds==labels_train).mean()"
   ]
  },
  {
   "cell_type": "code",
   "execution_count": 147,
   "metadata": {},
   "outputs": [],
   "source": [
    "# test_dir = './test_data'\n",
    "# print('4. Building the test features and labels')\n",
    "# features_test = build_features(test_dir, dictionary)\n",
    "# labels_test = build_labels(test_dir)"
   ]
  },
  {
   "cell_type": "code",
   "execution_count": 151,
   "metadata": {},
   "outputs": [
    {
     "name": "stdout",
     "output_type": "stream",
     "text": [
      "5. Calculating the accuracy of the trained classifier over the test emails\n",
      "\tAccuracy : 97.7273%\n"
     ]
    }
   ],
   "source": [
    "print('5. Calculating the accuracy of the trained classifier over the test emails')\n",
    "accuracy = (mnb.predict(features_test)==labels_test).mean()\n",
    "print(f'\\tAccuracy : {accuracy*100:2.4f}%')"
   ]
  },
  {
   "cell_type": "code",
   "execution_count": null,
   "metadata": {
    "collapsed": true
   },
   "outputs": [],
   "source": []
  },
  {
   "cell_type": "code",
   "execution_count": null,
   "metadata": {
    "collapsed": true
   },
   "outputs": [],
   "source": []
  }
 ],
 "metadata": {
  "kernelspec": {
   "display_name": "Python 3",
   "language": "python",
   "name": "python3"
  },
  "language_info": {
   "codemirror_mode": {
    "name": "ipython",
    "version": 3
   },
   "file_extension": ".py",
   "mimetype": "text/x-python",
   "name": "python",
   "nbconvert_exporter": "python",
   "pygments_lexer": "ipython3",
   "version": "3.6.2"
  }
 },
 "nbformat": 4,
 "nbformat_minor": 2
}
