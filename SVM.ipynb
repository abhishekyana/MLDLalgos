{
 "cells": [
  {
   "cell_type": "code",
   "execution_count": 1,
   "metadata": {
    "collapsed": true
   },
   "outputs": [],
   "source": [
    "import numpy as np\n",
    "from matplotlib import pyplot as plt\n",
    "%matplotlib inline"
   ]
  },
  {
   "cell_type": "code",
   "execution_count": 2,
   "metadata": {
    "collapsed": true
   },
   "outputs": [],
   "source": [
    "#Input data\n",
    "x = np.array([[1 , 2, -1],\n",
    "            [2 , 3, -1],\n",
    "            [2 , 1, -1],\n",
    "            [3 , 4, -1],\n",
    "            [1 , 3, -1],\n",
    "            [4 , 4, -1],])\n",
    "y = np.array([-1, 1, -1, 1, -1, 1]).reshape(-1,1)\n",
    "\n",
    "xtrain = x[:4,:]\n",
    "ytrain = y[:4, :]\n",
    "\n",
    "xtest = x[4:,:]\n",
    "ytest = y[4:, :]"
   ]
  },
  {
   "cell_type": "code",
   "execution_count": 17,
   "metadata": {},
   "outputs": [
    {
     "data": {
      "text/plain": [
       "<matplotlib.quiver.Quiver at 0x1108ebda0>"
      ]
     },
     "execution_count": 17,
     "metadata": {},
     "output_type": "execute_result"
    },
    {
     "data": {
      "image/png": "[encoded data removed]",
      "text/plain": [
       "<matplotlib.figure.Figure at 0x110810f98>"
      ]
     },
     "metadata": {},
     "output_type": "display_data"
    }
   ],
   "source": [
    "np.random.seed(6)\n",
    "w = np.random.randn(3)\n",
    "out = np.dot(x,w)\n",
    "for val, inp in enumerate(x):\n",
    "    if y[val] == -1:\n",
    "        plt.scatter(inp[0], inp[1], s=100, marker='_', linewidths=5)\n",
    "    else:\n",
    "        plt.scatter(inp[0], inp[1], s=100, marker='+', linewidths=5)\n",
    "\n",
    "plt.scatter(1, 3, s=100, marker='_', linewidths=5)   \n",
    "plt.scatter(4, 4, s=100, marker='+', linewidths=5)   \n",
    "\n",
    "\n",
    "x1=[w[0],w[1],-w[1],w[0]]\n",
    "x2=[w[0],w[1],w[1],-w[0]]\n",
    "\n",
    "x1x2 = np.array([x1,x2])\n",
    "# print(x1x2)\n",
    "X,Y,U,V = zip(*x1x2)\n",
    "ax = plt.gca()\n",
    "ax.quiver(X,Y,U,V,scale=1, color='blue')"
   ]
  },
  {
   "cell_type": "code",
   "execution_count": 18,
   "metadata": {
    "collapsed": true
   },
   "outputs": [],
   "source": [
    "def svm_function(x,y):\n",
    "    # Initialization\n",
    "    w = np.random.randn(3)\n",
    "    l_rate = 0.1 #Hyperparameter\n",
    "    epoch = 100000\n",
    "    for e in range(epoch):\n",
    "        val1 = np.dot(x,w).reshape(-1,1)\n",
    "        #print((l_rate*(y*x)*(y*val1<1)).shape)\n",
    "        w = w + (l_rate*(y*x)*(y*val1<1)).sum(axis=0)\n",
    "    out = np.dot(x,w)\n",
    "    return w, out"
   ]
  },
  {
   "cell_type": "code",
   "execution_count": 19,
   "metadata": {
    "collapsed": true
   },
   "outputs": [],
   "source": [
    "w, out = svm_function(x, y)"
   ]
  },
  {
   "cell_type": "code",
   "execution_count": 20,
   "metadata": {},
   "outputs": [
    {
     "name": "stdout",
     "output_type": "stream",
     "text": [
      "Calculated weights\n",
      "[2.2009082  1.21321935 6.91325152]\n"
     ]
    }
   ],
   "source": [
    "print('Calculated weights')\n",
    "print(w)"
   ]
  },
  {
   "cell_type": "code",
   "execution_count": 21,
   "metadata": {},
   "outputs": [
    {
     "name": "stdout",
     "output_type": "stream",
     "text": [
      "predicted output\n",
      "[-2.28590462  1.12822293 -1.29821577  4.54235048 -1.07268527  6.74325869]\n"
     ]
    }
   ],
   "source": [
    "print('predicted output')\n",
    "print(out)"
   ]
  },
  {
   "cell_type": "code",
   "execution_count": 22,
   "metadata": {},
   "outputs": [
    {
     "data": {
      "text/plain": [
       "<matplotlib.quiver.Quiver at 0x11095cb70>"
      ]
     },
     "execution_count": 22,
     "metadata": {},
     "output_type": "execute_result"
    },
    {
     "data": {
      "image/png": "[encoded data removed]",
      "text/plain": [
       "<matplotlib.figure.Figure at 0x11077bc18>"
      ]
     },
     "metadata": {},
     "output_type": "display_data"
    }
   ],
   "source": [
    "#After Optimising\n",
    "for val, inp in enumerate(x):\n",
    "    if y[val] == -1:\n",
    "        plt.scatter(inp[0], inp[1], s=100, marker='_', linewidths=5)\n",
    "    else:\n",
    "        plt.scatter(inp[0], inp[1], s=100, marker='+', linewidths=5)\n",
    "\n",
    "plt.scatter(1, 3, s=100, marker='_', linewidths=5)   \n",
    "plt.scatter(4, 4, s=100, marker='+', linewidths=5)   \n",
    "\n",
    "\n",
    "x1=[w[0],w[1],-w[1],w[0]]\n",
    "x2=[w[0],w[1],w[1],-w[0]]\n",
    "\n",
    "x1x2 = np.array([x1,x2])\n",
    "# print(x1x2)\n",
    "X,Y,U,V = zip(*x1x2)\n",
    "ax = plt.gca()\n",
    "ax.quiver(X,Y,U,V,scale=1, color='blue')"
   ]
  },
  {
   "cell_type": "code",
   "execution_count": 23,
   "metadata": {
    "collapsed": true
   },
   "outputs": [],
   "source": [
    "result = np.dot(xtest,w)"
   ]
  },
  {
   "cell_type": "code",
   "execution_count": 24,
   "metadata": {},
   "outputs": [
    {
     "name": "stdout",
     "output_type": "stream",
     "text": [
      "test result\n",
      "[-1.07268527  6.74325869]\n"
     ]
    }
   ],
   "source": [
    "print('test result')\n",
    "print(result)"
   ]
  },
  {
   "cell_type": "code",
   "execution_count": null,
   "metadata": {},
   "outputs": [],
   "source": []
  },
  {
   "cell_type": "code",
   "execution_count": null,
   "metadata": {
    "collapsed": true
   },
   "outputs": [],
   "source": []
  }
 ],
 "metadata": {
  "kernelspec": {
   "display_name": "Python 3",
   "language": "python",
   "name": "python3"
  },
  "language_info": {
   "codemirror_mode": {
    "name": "ipython",
    "version": 3
   },
   "file_extension": ".py",
   "mimetype": "text/x-python",
   "name": "python",
   "nbconvert_exporter": "python",
   "pygments_lexer": "ipython3",
   "version": "3.6.2"
  }
 },
 "nbformat": 4,
 "nbformat_minor": 2
}
